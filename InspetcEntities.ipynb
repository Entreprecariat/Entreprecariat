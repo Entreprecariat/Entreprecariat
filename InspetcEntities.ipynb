{
 "cells": [
  {
   "cell_type": "code",
   "execution_count": 5,
   "metadata": {},
   "outputs": [
    {
     "name": "stdout",
     "output_type": "stream",
     "text": [
      "{'America': 1,\n",
      " 'Amsterdam': 1,\n",
      " 'Arkansas': 1,\n",
      " 'Australia': 1,\n",
      " 'Bangalore': 1,\n",
      " 'Belgrade': 1,\n",
      " 'Berlin': 4,\n",
      " 'Brazil': 1,\n",
      " 'Brooklyn': 1,\n",
      " 'Bushwick': 1,\n",
      " 'Canada': 1,\n",
      " 'Chatroulette': 1,\n",
      " 'Chicago': 1,\n",
      " 'Colombia': 1,\n",
      " 'Davos': 3,\n",
      " 'Finland': 2,\n",
      " 'France': 1,\n",
      " 'Greece': 1,\n",
      " 'Helvetica': 1,\n",
      " 'Hong states': 1,\n",
      " 'Indiegogo': 2,\n",
      " 'Indonesia': 1,\n",
      " 'Isola': 1,\n",
      " 'Israel': 1,\n",
      " 'Italy': 9,\n",
      " 'Japan': 2,\n",
      " 'Kreuzberg': 1,\n",
      " 'La ricotta': 1,\n",
      " 'London': 2,\n",
      " 'Medellín': 1,\n",
      " 'Miami': 1,\n",
      " 'Milan': 2,\n",
      " 'Mobile': 3,\n",
      " 'New York': 6,\n",
      " 'New York City': 1,\n",
      " 'Nocos': 1,\n",
      " 'Phuket': 1,\n",
      " 'Precariat': 2,\n",
      " 'San Francisco': 2,\n",
      " 'San Precario': 1,\n",
      " 'Singapore': 3,\n",
      " 'Spain': 1,\n",
      " 'Tel Aviv': 1,\n",
      " 'Turin': 1,\n",
      " 'US': 13,\n",
      " 'Venezuela': 2,\n",
      " 'Ventura': 16,\n",
      " 'Vietnam': 1,\n",
      " 'WeLive': 2,\n",
      " 'the United Kingdom': 2,\n",
      " 'the United States': 8,\n",
      " 'the United States of America': 1}\n"
     ]
    }
   ],
   "source": [
    "#Import the requisite library\n",
    "import spacy\n",
    "import re\n",
    "import networkx as nx\n",
    "from fuzzywuzzy.process import dedupe \n",
    "from collections import deque\n",
    "from pprint import pprint\n",
    "\n",
    "def normalize(string):\n",
    "    text = re.sub(r\"\\n.*\", \"\", string)\n",
    "    text = re.sub(r\"'s$\", \"\", text)\n",
    "    if \"preneur\" in string: \n",
    "        text = None\n",
    "    return text\n",
    "\n",
    "def retrieveEntities(file, type):\n",
    "    #Build upon the spaCy Large Model\n",
    "    nlp = spacy.load(\"en_core_web_lg\")\n",
    "    #Sample text\n",
    "    with open (file, \"r\", encoding=\"utf-8\") as f:\n",
    "        text = f.read()\n",
    "    doc = nlp(text)\n",
    "\n",
    "    #extract entities\n",
    "    \n",
    "    entitiesRating = {}\n",
    "\n",
    "    for sent in doc.sents:\n",
    "        entities = deque()\n",
    "        for ent in sent.ents:\n",
    "            if ent.label_ == type:\n",
    "                text = normalize(ent.text)\n",
    "                if text != None: \n",
    "                    entities.append(text)\n",
    "                    if text not in entitiesRating:\n",
    "                        entitiesRating[text] = 1\n",
    "                    else: \n",
    "                        entitiesRating[text] += 1\n",
    "    \n",
    "    pprint(entitiesRating)\n",
    "retrieveEntities(\"corpus/books/Entreprecariat_CLEAN.txt\", \"GPE\")"
   ]
  }
 ],
 "metadata": {
  "kernelspec": {
   "display_name": "Python 3.10.7 64-bit",
   "language": "python",
   "name": "python3"
  },
  "language_info": {
   "codemirror_mode": {
    "name": "ipython",
    "version": 3
   },
   "file_extension": ".py",
   "mimetype": "text/x-python",
   "name": "python",
   "nbconvert_exporter": "python",
   "pygments_lexer": "ipython3",
   "version": "3.10.7"
  },
  "orig_nbformat": 4,
  "vscode": {
   "interpreter": {
    "hash": "909775f4c1c1337c10dd26386ad7fdd8e68c24cfe611dcacc1a198b9e09c3e1f"
   }
  }
 },
 "nbformat": 4,
 "nbformat_minor": 2
}
