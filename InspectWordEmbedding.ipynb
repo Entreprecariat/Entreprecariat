{
 "cells": [
  {
   "cell_type": "markdown",
   "metadata": {},
   "source": [
    "## INSPECT WORD SIMILARITY"
   ]
  },
  {
   "cell_type": "markdown",
   "metadata": {},
   "source": [
    "From the model created through the method Word2Vec of gensim, it is possible to inspect similarity between words. \n",
    "In particular we use three methods to analyse our corpus: \n",
    "- most_similar(): the first 10 words most similar to the one in input. Through this method is also possible to find the most similar word to another, for analogy according to a declared similarity.\n",
    "- similarity(): it returns the vector similarity between the two words in input\n"
   ]
  },
  {
   "cell_type": "code",
   "execution_count": null,
   "metadata": {},
   "outputs": [],
   "source": [
    "from gensim.models import KeyedVectors\n",
    "\n",
    "wv = KeyedVectors.load(\"vectors/word2vec.wordvectors\", mmap='r')\n",
    "\n",
    "#SIMILARITIES\n",
    "\n",
    "print(wv.most_similar(\"\"))\n",
    "\n",
    "print(\"The similarity between ----- and ----- is:\", wv.similarity(\"\", \"\"))\n",
    "\n",
    "#ANALOGY DIFFERENCE\n",
    "\n",
    "#which word is to A as B is to C?\n",
    "print(wv.most_similar(positive=[\"A\", \"B\"], negative=[\"C\"], topn=3))"
   ]
  }
 ],
 "metadata": {
  "kernelspec": {
   "display_name": "Python 3.10.7 64-bit",
   "language": "python",
   "name": "python3"
  },
  "language_info": {
   "name": "python",
   "version": "3.10.7"
  },
  "orig_nbformat": 4,
  "vscode": {
   "interpreter": {
    "hash": "909775f4c1c1337c10dd26386ad7fdd8e68c24cfe611dcacc1a198b9e09c3e1f"
   }
  }
 },
 "nbformat": 4,
 "nbformat_minor": 2
}
